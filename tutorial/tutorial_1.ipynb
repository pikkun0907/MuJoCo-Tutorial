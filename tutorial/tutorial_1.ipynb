{
 "cells": [
  {
   "cell_type": "markdown",
   "metadata": {
    "id": "t0CF6Gvkt_Cw"
   },
   "source": [
    "# MuJoCo basics\n",
    "\n",
    "We begin by defining and loading a simple model:"
   ]
  },
  {
   "cell_type": "code",
   "execution_count": 1,
   "metadata": {},
   "outputs": [],
   "source": [
    "import mujoco\n",
    "import mediapy as media\n",
    "import matplotlib.pyplot as plt\n",
    "\n",
    "import time\n",
    "import itertools\n",
    "import numpy as np"
   ]
  },
  {
   "cell_type": "code",
   "execution_count": 2,
   "metadata": {
    "id": "3KJVqak6xdJa"
   },
   "outputs": [],
   "source": [
    "xml = \"\"\"\n",
    "<mujoco>\n",
    "  <worldbody>\n",
    "    <geom name=\"red_box\" type=\"box\" size=\".2 .2 .2\" rgba=\"1 0 0 1\"/>\n",
    "    <geom name=\"green_sphere\" pos=\".2 .2 .2\" size=\".1\" rgba=\"0 1 0 1\"/>\n",
    "  </worldbody>\n",
    "</mujoco>\n",
    "\"\"\"\n",
    "model = mujoco.MjModel.from_xml_string(xml)"
   ]
  },
  {
   "cell_type": "markdown",
   "metadata": {
    "id": "slhf39lGxvDI"
   },
   "source": [
    "The `xml` string is written in MuJoCo's [MJCF](http://www.mujoco.org/book/modeling.html), which is an [XML](https://en.wikipedia.org/wiki/XML#Key_terminology)-based modeling language.\n",
    "  - The only required element is `<mujoco>`. The smallest valid MJCF model is `<mujoco/>` which is a completely empty model.\n",
    "  - All physical elements live inside the `<worldbody>` which is always the top-level body and constitutes the global origin in Cartesian coordinates.\n",
    "  - We define two geoms in the world named `red_box` and `green_sphere`.\n",
    "  - **Question:** The `red_box` has no position, the `green_sphere` has no type, why is that?\n",
    "    - **Answer:** MJCF attributes have *default values*. The default position is `0 0 0`, the default geom type is `sphere`. The MJCF language is described in the documentation's [XML Reference chapter](https://mujoco.readthedocs.io/en/latest/XMLreference.html).\n",
    "\n",
    "The `from_xml_string()` method invokes the model compiler, which creates a binary `mjModel` instance."
   ]
  },
  {
   "cell_type": "markdown",
   "metadata": {
    "id": "gf9h_wi9weet"
   },
   "source": [
    "## mjModel\n",
    "\n",
    "MuJoCo's `mjModel`, contains the *model description*, i.e., all quantities which *do not change over time*. The complete description of `mjModel` can be found at the end of the header file [`mjmodel.h`](https://github.com/deepmind/mujoco/blob/main/include/mujoco/mjmodel.h). Note that the header files contain short, useful inline comments, describing each field.\n",
    "\n",
    "Examples of quantities that can be found in `mjModel` are `ngeom`, the number of geoms in the scene and `geom_rgba`, their respective colors:"
   ]
  },
  {
   "cell_type": "code",
   "execution_count": 3,
   "metadata": {
    "id": "F40Pe6DY3Q0g"
   },
   "outputs": [
    {
     "data": {
      "text/plain": [
       "2"
      ]
     },
     "execution_count": 3,
     "metadata": {},
     "output_type": "execute_result"
    }
   ],
   "source": [
    "model.ngeom"
   ]
  },
  {
   "cell_type": "code",
   "execution_count": 4,
   "metadata": {
    "id": "MOIJG9pzx8cA"
   },
   "outputs": [
    {
     "data": {
      "text/plain": [
       "array([[1., 0., 0., 1.],\n",
       "       [0., 1., 0., 1.]], dtype=float32)"
      ]
     },
     "execution_count": 4,
     "metadata": {},
     "output_type": "execute_result"
    }
   ],
   "source": [
    "model.geom_rgba"
   ]
  },
  {
   "cell_type": "markdown",
   "metadata": {
    "id": "bzcLjdY23Kvp"
   },
   "source": [
    "## Named access\n",
    "\n",
    "The MuJoCo Python bindings provide convenient [accessors](https://mujoco.readthedocs.io/en/latest/python.html#named-access) using names. Calling the `model.geom()` accessor without a name string generates a convenient error that tells us what the valid names are."
   ]
  },
  {
   "cell_type": "code",
   "execution_count": 5,
   "metadata": {
    "id": "9AuTwbLFyJxQ"
   },
   "outputs": [
    {
     "name": "stdout",
     "output_type": "stream",
     "text": [
      "\"Invalid name ''. Valid names: ['green_sphere', 'red_box']\"\n"
     ]
    }
   ],
   "source": [
    "try:\n",
    "  model.geom()\n",
    "except KeyError as e:\n",
    "  print(e)"
   ]
  },
  {
   "cell_type": "markdown",
   "metadata": {
    "id": "qkfLK3h2zrqr"
   },
   "source": [
    "Calling the named accessor without specifying a property will tell us what all the valid properties are:"
   ]
  },
  {
   "cell_type": "code",
   "execution_count": 6,
   "metadata": {
    "id": "9X95TlWnyEEw"
   },
   "outputs": [
    {
     "data": {
      "text/plain": [
       "<_MjModelGeomViews\n",
       "  bodyid: array([0], dtype=int32)\n",
       "  conaffinity: array([1], dtype=int32)\n",
       "  condim: array([3], dtype=int32)\n",
       "  contype: array([1], dtype=int32)\n",
       "  dataid: array([-1], dtype=int32)\n",
       "  friction: array([1.e+00, 5.e-03, 1.e-04])\n",
       "  gap: array([0.])\n",
       "  group: array([0], dtype=int32)\n",
       "  id: 1\n",
       "  margin: array([0.])\n",
       "  matid: array([-1], dtype=int32)\n",
       "  name: 'green_sphere'\n",
       "  pos: array([0.2, 0.2, 0.2])\n",
       "  priority: array([0], dtype=int32)\n",
       "  quat: array([1., 0., 0., 0.])\n",
       "  rbound: array([0.1])\n",
       "  rgba: array([0., 1., 0., 1.], dtype=float32)\n",
       "  sameframe: array([3], dtype=uint8)\n",
       "  size: array([0.1, 0. , 0. ])\n",
       "  solimp: array([9.0e-01, 9.5e-01, 1.0e-03, 5.0e-01, 2.0e+00])\n",
       "  solmix: array([1.])\n",
       "  solref: array([0.02, 1.  ])\n",
       "  type: array([2], dtype=int32)\n",
       "  user: array([], dtype=float64)\n",
       ">"
      ]
     },
     "execution_count": 6,
     "metadata": {},
     "output_type": "execute_result"
    }
   ],
   "source": [
    "model.geom('green_sphere')"
   ]
  },
  {
   "cell_type": "markdown",
   "metadata": {
    "id": "mS9qDLevKsJq"
   },
   "source": [
    "Let's read the `green_sphere`'s rgba values:"
   ]
  },
  {
   "cell_type": "code",
   "execution_count": 7,
   "metadata": {
    "id": "xsBlJAV7zpHb"
   },
   "outputs": [
    {
     "data": {
      "text/plain": [
       "array([0., 1., 0., 1.], dtype=float32)"
      ]
     },
     "execution_count": 7,
     "metadata": {},
     "output_type": "execute_result"
    }
   ],
   "source": [
    "model.geom('green_sphere').rgba"
   ]
  },
  {
   "cell_type": "markdown",
   "metadata": {
    "id": "8a8hswjjKyIa"
   },
   "source": [
    "This functionality is a convenience shortcut for MuJoCo's [`mj_name2id`](https://mujoco.readthedocs.io/en/latest/APIreference.html?highlight=mj_name2id#mj-name2id) function:"
   ]
  },
  {
   "cell_type": "code",
   "execution_count": 8,
   "metadata": {
    "id": "Ng92hNUoKnVq"
   },
   "outputs": [
    {
     "data": {
      "text/plain": [
       "array([0., 1., 0., 1.], dtype=float32)"
      ]
     },
     "execution_count": 8,
     "metadata": {},
     "output_type": "execute_result"
    }
   ],
   "source": [
    "id = mujoco.mj_name2id(model, mujoco.mjtObj.mjOBJ_GEOM, 'green_sphere')\n",
    "model.geom_rgba[id, :]"
   ]
  },
  {
   "cell_type": "markdown",
   "metadata": {
    "id": "5WL_SaJPLl3r"
   },
   "source": [
    "Similarly, the read-only `id` and `name` properties can be used to convert from id to name and back:"
   ]
  },
  {
   "cell_type": "code",
   "execution_count": 13,
   "metadata": {
    "id": "2CbGSmRZeE5p"
   },
   "outputs": [
    {
     "name": "stdout",
     "output_type": "stream",
     "text": [
      "id of \"green_sphere\":  1\n",
      "name of geom 1:  green_sphere\n",
      "name of body 0:  world\n"
     ]
    }
   ],
   "source": [
    "print('id of \"green_sphere\": ', model.geom('green_sphere').id)\n",
    "print('name of geom 1: ', model.geom(1).name)\n",
    "print('name of body 0: ', model.body(0).name)"
   ]
  },
  {
   "cell_type": "markdown",
   "metadata": {
    "id": "3RIizubaL_du"
   },
   "source": [
    "Note that the 0th body is always the `world`. It cannot be renamed.\n",
    "\n",
    "The `id` and `name` attributes are useful in Python comprehensions:"
   ]
  },
  {
   "cell_type": "code",
   "execution_count": 14,
   "metadata": {
    "id": "m3MtIE5F1K7s"
   },
   "outputs": [
    {
     "data": {
      "text/plain": [
       "['red_box', 'green_sphere']"
      ]
     },
     "execution_count": 14,
     "metadata": {},
     "output_type": "execute_result"
    }
   ],
   "source": [
    "[model.geom(i).name for i in range(model.ngeom)]"
   ]
  },
  {
   "cell_type": "markdown",
   "metadata": {
    "id": "t5hY0fyXFLcf"
   },
   "source": [
    "## `mjData`\n",
    "`mjData` contains the *state* and quantities that depend on it. The state is made up of time, [generalized](https://en.wikipedia.org/wiki/Generalized_coordinates) positions and generalized velocities. These are respectively `data.time`, `data.qpos` and `data.qvel`. In order to make a new `mjData`, all we need is our `mjModel`"
   ]
  },
  {
   "cell_type": "code",
   "execution_count": null,
   "metadata": {
    "id": "FV2Hy6m948nr"
   },
   "outputs": [
    {
     "data": {
      "text/plain": [
       "0.0"
      ]
     },
     "execution_count": 17,
     "metadata": {},
     "output_type": "execute_result"
    }
   ],
   "source": [
    "data = mujoco.MjData(model)"
   ]
  },
  {
   "cell_type": "markdown",
   "metadata": {
    "id": "-KmNuvlJ46u0"
   },
   "source": [
    "`mjData` also contains *functions of the state*, for example the Cartesian positions of objects in the world frame. The (x, y, z) positions of our two geoms are in `data.geom_xpos`:"
   ]
  },
  {
   "cell_type": "code",
   "execution_count": 12,
   "metadata": {
    "id": "CPwDcAQ0-uUE"
   },
   "outputs": [
    {
     "name": "stdout",
     "output_type": "stream",
     "text": [
      "[[0. 0. 0.]\n",
      " [0. 0. 0.]]\n"
     ]
    }
   ],
   "source": [
    "print(data.geom_xpos)"
   ]
  },
  {
   "cell_type": "markdown",
   "metadata": {
    "id": "Sjst5xGXX3sr"
   },
   "source": [
    "Wait, why are both of our geoms at the origin? Didn't we offset the green sphere? The answer is that derived quantities in `mjData` need to be explicitly propagated (see [below](#scrollTo=QY1gpms1HXeN)). In our case, the minimal required function is [`mj_kinematics`](https://mujoco.readthedocs.io/en/latest/APIreference.html#mj-kinematics), which computes global Cartesian poses for all objects (excluding cameras and lights)."
   ]
  },
  {
   "cell_type": "code",
   "execution_count": 18,
   "metadata": {
    "id": "tfe0YeZRYNTr"
   },
   "outputs": [
    {
     "name": "stdout",
     "output_type": "stream",
     "text": [
      "raw access:\n",
      " [[0.  0.  0. ]\n",
      " [0.2 0.2 0.2]]\n",
      "\n",
      "named access:\n",
      " [0.2 0.2 0.2]\n"
     ]
    }
   ],
   "source": [
    "mujoco.mj_kinematics(model, data)\n",
    "print('raw access:\\n', data.geom_xpos)\n",
    "\n",
    "# MjData also supports named access:\n",
    "print('\\nnamed access:\\n', data.geom('green_sphere').xpos)"
   ]
  },
  {
   "cell_type": "markdown",
   "metadata": {
    "id": "eU7uWNsTwmcZ"
   },
   "source": [
    "# Basic rendering, simulation, and animation\n",
    "\n",
    "In order to render we'll need to instantiate a `Renderer` object and call its `render` method.\n",
    "\n",
    "We'll also reload our model to make the colab's sections independent."
   ]
  },
  {
   "cell_type": "code",
   "execution_count": 19,
   "metadata": {
    "id": "xK3c0-UDxMrN"
   },
   "outputs": [
    {
     "data": {
      "text/html": [
       "<table class=\"show_images\" style=\"border-spacing:0px;\"><tr><td style=\"padding:1px;\"><img width=\"320\" height=\"240\" style=\"image-rendering:auto; object-fit:cover;\" src=\"data:image/png;base64,iVBORw0KGgoAAAANSUhEUgAAAUAAAADwCAIAAAD+Tyo8AAAA9UlEQVR4nO3BAQEAAACCIP+vbkhAAQAAAAAAAAAAAAAAAAAAAAAAAAAAAAAAAAAAAAAAAAAAAAAAAAAAAAAAAAAAAAAAAAAAAAAAAAAAAAAAAAAAAAAAAAAAAAAAAAAAAAAAAAAAAAAAAAAAAAAAAAAAAAAAAAAAAAAAAAAAAAAAAAAAAAAAAAAAAAAAAAAAAAAAAAAAAAAAAAAAAAAAAAAAAAAAAAAAAAAAAAAAAAAAAAAAAAAAAAAAAAAAAAAAAAAAAAAAAAAAAAAAAAAAAAAAAAAAAAAAAAAAAAAAAAAAAAAAAAAAAAAAAAAAAAAAAAAAAPBohR0AAXbPpmUAAAAASUVORK5CYII=\"/></td></tr></table>"
      ],
      "text/plain": [
       "<IPython.core.display.HTML object>"
      ]
     },
     "metadata": {},
     "output_type": "display_data"
    }
   ],
   "source": [
    "xml = \"\"\"\n",
    "<mujoco>\n",
    "  <worldbody>\n",
    "    <light name=\"top\" pos=\"0 0 1\"/>\n",
    "    <geom name=\"red_box\" type=\"box\" size=\".2 .2 .2\" rgba=\"1 0 0 1\"/>\n",
    "    <geom name=\"green_sphere\" pos=\".2 .2 .2\" size=\".1\" rgba=\"0 1 0 1\"/>\n",
    "  </worldbody>\n",
    "</mujoco>\n",
    "\"\"\"\n",
    "#\n",
    "# Make model and data\n",
    "model = mujoco.MjModel.from_xml_string(xml)\n",
    "data = mujoco.MjData(model)\n",
    "\n",
    "# Make renderer, render and show the pixels\n",
    "renderer = mujoco.Renderer(model)\n",
    "media.show_image(renderer.render())"
   ]
  },
  {
   "cell_type": "markdown",
   "metadata": {
    "id": "ZkFSHeYGxlT5"
   },
   "source": [
    "Hmmm, why the black pixels?\n",
    "\n",
    "**Answer:** For the same reason as above, we first need to propagate the values in `mjData`. This time we'll call [`mj_forward`](https://mujoco.readthedocs.io/en/latest/APIreference.html#mj-forward), which invokes the entire pipeline up to the computation of accelerations i.e., it computes $\\dot x = f(x)$, where $x$ is the state. This function does more than we actually need, but unless we care about saving computation time, it's good practice to call `mj_forward` since then we know we are not missing anything.\n",
    "\n",
    "We also need to update the `mjvScene` which is an object held by the renderer describing the visual scene. We'll later see that the scene can include visual objects which are not part of the physical model."
   ]
  },
  {
   "cell_type": "code",
   "execution_count": 21,
   "metadata": {
    "id": "pvh47r97huS4"
   },
   "outputs": [
    {
     "data": {
      "text/html": [
       "<table class=\"show_images\" style=\"border-spacing:0px;\"><tr><td style=\"padding:1px;\"><img width=\"320\" height=\"240\" style=\"image-rendering:auto; object-fit:cover;\" src=\"data:image/png;base64,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\"/></td></tr></table>"
      ],
      "text/plain": [
       "<IPython.core.display.HTML object>"
      ]
     },
     "metadata": {},
     "output_type": "display_data"
    }
   ],
   "source": [
    "mujoco.mj_forward(model, data)\n",
    "renderer.update_scene(data)\n",
    "\n",
    "media.show_image(renderer.render())"
   ]
  },
  {
   "cell_type": "markdown",
   "metadata": {
    "id": "-P95E-QHizQq"
   },
   "source": [
    "# Simulation\n",
    "\n",
    "Now let's simulate and make a video. We'll use MuJoCo's main high level function `mj_step`, which steps the state $x_{t+h} = f(x_t)$.\n",
    "\n",
    "Note that in the code block below we are *not* rendering after each call to `mj_step`. This is because the default timestep is 2ms, and we want a 60fps video, not 500fps."
   ]
  },
  {
   "cell_type": "code",
   "execution_count": 23,
   "metadata": {
    "id": "NdVnHOYisiKl"
   },
   "outputs": [
    {
     "data": {
      "text/html": [
       "<table class=\"show_videos\" style=\"border-spacing:0px;\"><tr><td style=\"padding:1px;\"><video controls width=\"320\" height=\"240\" style=\"object-fit:cover;\" loop autoplay muted>\n",
       "      <source src=\"data:video/mp4;base64,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\" type=\"video/mp4\"/>\n",
       "      This browser does not support the video tag.\n",
       "      </video></td></tr></table>"
      ],
      "text/plain": [
       "<IPython.core.display.HTML object>"
      ]
     },
     "metadata": {},
     "output_type": "display_data"
    }
   ],
   "source": [
    "duration = 3.8  # (seconds)\n",
    "framerate = 60  # (Hz)\n",
    "\n",
    "# Simulate and display video.\n",
    "frames = []\n",
    "mujoco.mj_resetData(model, data)  # Reset state and time.\n",
    "while data.time < duration:\n",
    "  mujoco.mj_step(model, data)\n",
    "  if len(frames) < data.time * framerate:\n",
    "    renderer.update_scene(data)\n",
    "    pixels = renderer.render()\n",
    "    frames.append(pixels)\n",
    "media.show_video(frames, fps=framerate)"
   ]
  },
  {
   "cell_type": "markdown",
   "metadata": {
    "id": "-P95E-QHizQq"
   },
   "source": [
    "But isn't anything moving?"
   ]
  }
 ],
 "metadata": {
  "accelerator": "GPU",
  "colab": {
   "collapsed_sections": [
    "-re3Szx-1Ias"
   ],
   "private_outputs": true,
   "provenance": [],
   "toc_visible": true
  },
  "gpuClass": "premium",
  "kernelspec": {
   "display_name": "mujoco",
   "language": "python",
   "name": "python3"
  },
  "language_info": {
   "codemirror_mode": {
    "name": "ipython",
    "version": 3
   },
   "file_extension": ".py",
   "mimetype": "text/x-python",
   "name": "python",
   "nbconvert_exporter": "python",
   "pygments_lexer": "ipython3",
   "version": "3.10.18"
  }
 },
 "nbformat": 4,
 "nbformat_minor": 1
}
